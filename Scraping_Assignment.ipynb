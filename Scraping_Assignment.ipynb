{
 "cells": [
  {
   "cell_type": "code",
   "execution_count": 1,
   "metadata": {},
   "outputs": [],
   "source": [
    "from bs4 import BeautifulSoup \n",
    "import requests\n",
    "import pandas as pd\n",
    "import numpy as np\n",
    "import random\n",
    "import time"
   ]
  },
  {
   "cell_type": "markdown",
   "metadata": {},
   "source": [
    "### Fetching & Storing the data"
   ]
  },
  {
   "cell_type": "code",
   "execution_count": 2,
   "metadata": {},
   "outputs": [],
   "source": [
    "headers ={'User-Agent': 'Mozilla/5.0 (Windows NT 10.0; Win64; x64) AppleWebKit/537.36 (KHTML, like Gecko) Chrome/89.0.4389.90 Safari/537.36',\n",
    "          'Accept': '*/*','Accept-Encoding': 'gzip, deflate, br','Accept-Language': 'en-GB,en-US;q=0.9,en;q=0.8','Connection': 'keep-alive',\n",
    "          'Content-Length':'34','Content-Type': 'application/x-www-form-urlencoded; charset=UTF-8','Host': 'main.sci.gov.in','Referer': 'https://main.sci.gov.in/case-status'}"
   ]
  },
  {
   "cell_type": "code",
   "execution_count": 4,
   "metadata": {},
   "outputs": [],
   "source": [
    "#Creating Empty Lists\n",
    "act=[]\n",
    "diaryno=[]\n",
    "caseno=[]\n",
    "listedon=[]\n",
    "status=[]\n",
    "disp=[]\n",
    "pending=[]\n",
    "category=[]\n",
    "petitioner=[]\n",
    "respondent=[]\n",
    "petadvocate=[]\n",
    "resadvocate=[]\n",
    "usection=[]"
   ]
  },
  {
   "cell_type": "code",
   "execution_count": null,
   "metadata": {},
   "outputs": [
    {
     "name": "stdout",
     "output_type": "stream",
     "text": [
      "Tue Mar 30 22:25:02 2021\n",
      "Request Timeout Requesting Again\n",
      "Request Timeout Requesting Again\n",
      "Request Timeout Requesting Again\n",
      "Request Timeout Requesting Again\n"
     ]
    }
   ],
   "source": [
    "s=requests.session()  # Creating Session\n",
    "payload={}            #Creating Empty Payload Dictionary\n",
    "payload['d_yr']=2000  #Initializing d_yr to year 2000\n",
    "starttime=time.time() # to calculate the time required\n",
    "print(time.ctime())   #printing the starting time\n",
    "for payload['d_yr'] in range(2000,2021): #looping till we get the case diary for all the required years\n",
    "  for i in range(1,101): #Looping till we get the all the case diary we want for each year\n",
    "    payload['d_no']=i    #Initializing d_no with i\n",
    "    payload['ansCaptcha']=random.randint(1111,9999) # generating 4 digit random number to bypass captcha\n",
    "    try:\n",
    "         #posting the form data in try block\n",
    "      response=s.post('https://main.sci.gov.in/php/case_status/case_status_process.php',data=payload,headers=headers)\n",
    "      soup=BeautifulSoup(response.text,'html.parser') #creating soup object of recieved data\n",
    "    except:\n",
    "        #catching exceptions in except block\n",
    "        print('Request Timeout Requesting Again')\n",
    "        continue\n",
    "    tab = soup.find('div' , class_='panel-collapse collapse in') #searching the required div using class attributes\n",
    "    if tab is None: # handling the possibility of None return\n",
    "      tabdata=soup.find_all('td')\n",
    "    else:\n",
    "      tabdata=tab.find_all('td')\n",
    "    tabledata=[]\n",
    "    for td in tabdata: #creating a list of td block in the tabdata\n",
    "      tabledata.append(td.text.strip())\n",
    "    for i in range(0,len(tabledata),2):#iterating over list to find & append data to respective lists\n",
    "      info=tabledata[i]\n",
    "      if ('Act' in info):\n",
    "        if tabledata[i+1] == '':\n",
    "          act.append(np.nan) #appending nan value if there are no data for that columns\n",
    "        else:\n",
    "          act.append(tabledata[i+1].replace('\\xa0','').strip())\n",
    "      elif ('Case No' in info):\n",
    "        if tabledata[i+1] == '':\n",
    "          caseno.append(np.nan)\n",
    "        else:\n",
    "          caseno.append(tabledata[i+1].replace('\\xa0','').strip())\n",
    "      elif ('Category' in info):\n",
    "        if tabledata[i+1] == '':\n",
    "          category.append(np.nan)\n",
    "        else:\n",
    "          category.append(tabledata[i+1].replace('\\xa0','').strip())\n",
    "      elif ('Diary' in info):\n",
    "        if tabledata[i+1] == '':\n",
    "          diaryno.append(np.nan)\n",
    "        else:\n",
    "          diaryno.append(tabledata[i+1].replace('\\xa0','').strip())\n",
    "      elif ('Pet.' in info):\n",
    "        if tabledata[i+1] == '':\n",
    "          petadvocate.append(np.nan)\n",
    "        else:\n",
    "          petadvocate.append(tabledata[i+1].replace('\\xa0','').strip())\n",
    "      elif ('Petitioner' in info):\n",
    "        if tabledata[i+1] == '':\n",
    "          petitioner.append(np.nan)\n",
    "        else:\n",
    "          petitioner.append(tabledata[i+1].replace('\\xa0','').strip())\n",
    "      elif ('Present' in info):\n",
    "        if tabledata[i+1] == '':\n",
    "          listedon.append(np.nan)\n",
    "        else:\n",
    "          listedon.append(tabledata[i+1].replace('\\xa0','').strip())\n",
    "      elif ('Resp.' in info):\n",
    "        if tabledata[i+1] == '':\n",
    "          resadvocate.append(np.nan)\n",
    "        else:\n",
    "          resadvocate.append(tabledata[i+1].replace('\\xa0','').strip())\n",
    "      elif ('Respondent' in info):\n",
    "        if tabledata[i+1] == '':\n",
    "          respondent.append(np.nan)\n",
    "        else:\n",
    "          respondent.append(tabledata[i+1].replace('\\xa0','').strip())\n",
    "      elif ('Status/Stage' in info):\n",
    "        if tabledata[i+1] == '':\n",
    "          status.append(np.nan)\n",
    "        else:\n",
    "          status.append(tabledata[i+1].replace('\\xa0','').strip())\n",
    "      elif ('Disp.' in info):\n",
    "        if tabledata[i+1] == '':\n",
    "          disp.append(np.nan)\n",
    "        else:\n",
    "          disp.append(tabledata[i+1].replace('\\xa0','').strip())\n",
    "      elif ('U/Section' in info):\n",
    "        if tabledata[i+1] == '':\n",
    "          usection.append(np.nan)\n",
    "        else:usection.append(tabledata[i+1].replace('\\xa0','').strip())\n",
    "  print(f\"Fetching done of year {payload['d_yr']}\")    #printing a feedback msg after completing fetching of that year\n",
    "  payload['d_yr']=payload['d_yr']+1 #updating the d_yr\n",
    "print('Time required for execution:',time.time()-starttime)"
   ]
  },
  {
   "cell_type": "markdown",
   "metadata": {},
   "source": [
    "### Creating DataFrame & CSV"
   ]
  },
  {
   "cell_type": "code",
   "execution_count": 16,
   "metadata": {},
   "outputs": [],
   "source": [
    "df = {'Diary No':diaryno,'Case No':caseno,'Present/Last Listed On':listedon,'Status/Stage':status,\n",
    "      'Disp.Type':disp,'Category':category,'Act':act,'Petitioner(s)':petitioner,\n",
    "      'Respondent(s)':respondent,'Pet. Advocate(s)':petadvocate,'Resp. Advocate(s)':resadvocate,'U/Section':usection}\n"
   ]
  },
  {
   "cell_type": "code",
   "execution_count": 17,
   "metadata": {},
   "outputs": [],
   "source": [
    "dataset = pd.DataFrame.from_dict(data = df,orient='index')\n",
    "dataset=dataset.transpose()\n",
    "dataset.to_csv('supremecourtcasediary.csv', index=False, encoding='utf-8')"
   ]
  },
  {
   "cell_type": "code",
   "execution_count": 18,
   "metadata": {},
   "outputs": [
    {
     "name": "stdout",
     "output_type": "stream",
     "text": [
      "<class 'pandas.core.frame.DataFrame'>\n",
      "RangeIndex: 2092 entries, 0 to 2091\n",
      "Data columns (total 12 columns):\n",
      " #   Column                  Non-Null Count  Dtype \n",
      "---  ------                  --------------  ----- \n",
      " 0   Diary No                2092 non-null   object\n",
      " 1   Case No                 2092 non-null   object\n",
      " 2   Present/Last Listed On  607 non-null    object\n",
      " 3   Status/Stage            2063 non-null   object\n",
      " 4   Disp.Type               1854 non-null   object\n",
      " 5   Category                2033 non-null   object\n",
      " 6   Act                     34 non-null     object\n",
      " 7   Petitioner(s)           2092 non-null   object\n",
      " 8   Respondent(s)           2092 non-null   object\n",
      " 9   Pet. Advocate(s)        1895 non-null   object\n",
      " 10  Resp. Advocate(s)       780 non-null    object\n",
      " 11  U/Section               35 non-null     object\n",
      "dtypes: object(12)\n",
      "memory usage: 196.2+ KB\n"
     ]
    }
   ],
   "source": [
    "dataset.info()"
   ]
  },
  {
   "cell_type": "code",
   "execution_count": 19,
   "metadata": {},
   "outputs": [],
   "source": [
    "casedata=pd.read_csv('supremecourtcasediary.csv')"
   ]
  },
  {
   "cell_type": "code",
   "execution_count": 32,
   "metadata": {},
   "outputs": [
    {
     "name": "stdout",
     "output_type": "stream",
     "text": [
      "<class 'pandas.core.frame.DataFrame'>\n",
      "Int64Index: 2092 entries, 0 to 2091\n",
      "Data columns (total 12 columns):\n",
      " #   Column                  Non-Null Count  Dtype \n",
      "---  ------                  --------------  ----- \n",
      " 0   Diary No                2092 non-null   object\n",
      " 1   Case No                 2092 non-null   object\n",
      " 2   Present/Last Listed On  607 non-null    object\n",
      " 3   Status/Stage            2063 non-null   object\n",
      " 4   Disp.Type               1854 non-null   object\n",
      " 5   Category                2033 non-null   object\n",
      " 6   Act                     34 non-null     object\n",
      " 7   Petitioner(s)           2092 non-null   object\n",
      " 8   Respondent(s)           2092 non-null   object\n",
      " 9   Pet. Advocate(s)        1895 non-null   object\n",
      " 10  Resp. Advocate(s)       780 non-null    object\n",
      " 11  U/Section               35 non-null     object\n",
      "dtypes: object(12)\n",
      "memory usage: 212.5+ KB\n"
     ]
    }
   ],
   "source": [
    "casedata.info()"
   ]
  },
  {
   "cell_type": "code",
   "execution_count": null,
   "metadata": {},
   "outputs": [],
   "source": []
  }
 ],
 "metadata": {
  "kernelspec": {
   "display_name": "Python 3",
   "language": "python",
   "name": "python3"
  },
  "language_info": {
   "codemirror_mode": {
    "name": "ipython",
    "version": 3
   },
   "file_extension": ".py",
   "mimetype": "text/x-python",
   "name": "python",
   "nbconvert_exporter": "python",
   "pygments_lexer": "ipython3",
   "version": "3.8.3"
  }
 },
 "nbformat": 4,
 "nbformat_minor": 4
}
